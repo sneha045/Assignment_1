{
 "cells": [
  {
   "cell_type": "markdown",
   "id": "c14b052a",
   "metadata": {},
   "source": [
    "1. Variables are \n",
    "               \"hello\"- string (str)\n",
    "               -87.8- Float \n",
    "               6 - Float\n",
    "   Expressions are\n",
    "                * - Multiplication \n",
    "                - - Subraction \n",
    "                / - Division \n",
    "                + - Addition "
   ]
  },
  {
   "cell_type": "markdown",
   "id": "639ed525",
   "metadata": {},
   "source": [
    "2. Difference between string and variable is that string is the data that is stored within inverted commas and variable is an      entity that is used to store the required data. \n",
    "   For example: s=\"sudhanshu\". Here s is the variable and Sudhanshu is the string. Hence, we used a variable that is s as an      entity to store data and sudhanshu as the data that has been stored which is in data type of string. "
   ]
  },
  {
   "cell_type": "markdown",
   "id": "fbcaca3b",
   "metadata": {},
   "source": [
    "3. The three different data types are bool, Lists, Strings. Bool is used for execution of programs like true or false. Lists is    a variable that is used to store different data types in one entity for example: 1=[ 3,4,5,\"ineuron\", True] here we can see    float, integer and bool data types stores in one variable 1. Strings is the statement that is stored in a variable with \n",
    "   double quotes "
   ]
  },
  {
   "cell_type": "markdown",
   "id": "bea6e1d4",
   "metadata": {},
   "source": [
    "4. Expressions are made up of values and operators like 3+5 this is addition which is an expression.It gets all the operators      and values to one single value. Taking the above example the answer is 8 which will be the expression for the entire            operation. "
   ]
  },
  {
   "cell_type": "markdown",
   "id": "4f9c8931",
   "metadata": {},
   "source": [
    "5. This assignment statement, Like spam=10, the differenece between statement and expression is that in assignment statement is    represented by commanding like spam=10 whereas, in expression it is a combination of values & operators which drives to        give one single value like 3+5=8"
   ]
  },
  {
   "cell_type": "code",
   "execution_count": 1,
   "id": "8b527672",
   "metadata": {},
   "outputs": [
    {
     "data": {
      "text/plain": [
       "23"
      ]
     },
     "execution_count": 1,
     "metadata": {},
     "output_type": "execute_result"
    }
   ],
   "source": [
    "The value will be 23\n",
    "6.bacon=22\n",
    "  bacon+1"
   ]
  },
  {
   "cell_type": "code",
   "execution_count": 19,
   "id": "d2f99528",
   "metadata": {},
   "outputs": [
    {
     "data": {
      "text/plain": [
       "'spamspamspam'"
      ]
     },
     "execution_count": 19,
     "metadata": {},
     "output_type": "execute_result"
    }
   ],
   "source": [
    "The value is the same spamspamspam\n",
    "7.d='Spam'\n",
    "  type (d)\n",
    "  'spam' + 'spamspam'\n",
    "  'spam'*3"
   ]
  },
  {
   "cell_type": "markdown",
   "id": "2be2bece",
   "metadata": {},
   "source": [
    "8. Eggs is a valid variable because it is not starting with a numarical value hence, 100 is a numarical value that doesn't        store any data because it started with a numarical value."
   ]
  },
  {
   "cell_type": "markdown",
   "id": "df3679a0",
   "metadata": {},
   "source": [
    "9. integer= int()\n",
    "   floating-point number= float()\n",
    "   string= str()"
   ]
  },
  {
   "cell_type": "code",
   "execution_count": 23,
   "id": "c8654d1b",
   "metadata": {},
   "outputs": [
    {
     "ename": "TypeError",
     "evalue": "can only concatenate str (not \"int\") to str",
     "output_type": "error",
     "traceback": [
      "\u001b[1;31m---------------------------------------------------------------------------\u001b[0m",
      "\u001b[1;31mTypeError\u001b[0m                                 Traceback (most recent call last)",
      "Input \u001b[1;32mIn [23]\u001b[0m, in \u001b[0;36m<cell line: 1>\u001b[1;34m()\u001b[0m\n\u001b[1;32m----> 1\u001b[0m \u001b[38;5;124;43m'\u001b[39;49m\u001b[38;5;124;43mi have eaten\u001b[39;49m\u001b[38;5;124;43m'\u001b[39;49m\u001b[38;5;241;43m+\u001b[39;49m\u001b[38;5;241;43m99\u001b[39;49m\u001b[38;5;241m+\u001b[39mburritos\n",
      "\u001b[1;31mTypeError\u001b[0m: can only concatenate str (not \"int\") to str"
     ]
    }
   ],
   "source": [
    "'i have eaten'+99+burritos"
   ]
  },
  {
   "cell_type": "markdown",
   "id": "73c371f1",
   "metadata": {},
   "source": [
    "10. This leads to a typeerror as the expression can only concatenate string and not integer to string. Hence we can write this     as 'i have eaten' + str(99) + burritos. "
   ]
  }
 ],
 "metadata": {
  "kernelspec": {
   "display_name": "Python 3 (ipykernel)",
   "language": "python",
   "name": "python3"
  },
  "language_info": {
   "codemirror_mode": {
    "name": "ipython",
    "version": 3
   },
   "file_extension": ".py",
   "mimetype": "text/x-python",
   "name": "python",
   "nbconvert_exporter": "python",
   "pygments_lexer": "ipython3",
   "version": "3.9.12"
  }
 },
 "nbformat": 4,
 "nbformat_minor": 5
}
