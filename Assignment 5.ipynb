{
 "cells": [
  {
   "cell_type": "markdown",
   "id": "b98447b3",
   "metadata": {},
   "source": [
    "1. An empty code dictonary looks like d= { \" \": \" \", \" \": \" \"} Here, key:value, and other key:value.  "
   ]
  },
  {
   "cell_type": "code",
   "execution_count": 4,
   "id": "9a59693c",
   "metadata": {},
   "outputs": [
    {
     "data": {
      "text/plain": [
       "'42'"
      ]
     },
     "execution_count": 4,
     "metadata": {},
     "output_type": "execute_result"
    }
   ],
   "source": [
    "2. The value is '42' \n",
    "d= {\"foo\": \"42\"}\n",
    "d [\"foo\"]"
   ]
  },
  {
   "cell_type": "markdown",
   "id": "828f3571",
   "metadata": {},
   "source": [
    "3. The most significant difference between dictonary and list is that lists store various items like strings, float, int etc in    one single element, whereas dictonary stores the items in the form of key:value pair. A keywork has to be assigned for a        a value. "
   ]
  },
  {
   "cell_type": "code",
   "execution_count": 5,
   "id": "da3f304a",
   "metadata": {},
   "outputs": [
    {
     "ename": "KeyError",
     "evalue": "'foo'",
     "output_type": "error",
     "traceback": [
      "\u001b[1;31m---------------------------------------------------------------------------\u001b[0m",
      "\u001b[1;31mKeyError\u001b[0m                                  Traceback (most recent call last)",
      "Input \u001b[1;32mIn [5]\u001b[0m, in \u001b[0;36m<cell line: 3>\u001b[1;34m()\u001b[0m\n\u001b[0;32m      1\u001b[0m \u001b[38;5;241m4.\u001b[39m \n\u001b[0;32m      2\u001b[0m spam \u001b[38;5;241m=\u001b[39m{\u001b[38;5;124m'\u001b[39m\u001b[38;5;124mbar\u001b[39m\u001b[38;5;124m'\u001b[39m: \u001b[38;5;241m100\u001b[39m}\n\u001b[1;32m----> 3\u001b[0m \u001b[43mspam\u001b[49m\u001b[43m[\u001b[49m\u001b[38;5;124;43m\"\u001b[39;49m\u001b[38;5;124;43mfoo\u001b[39;49m\u001b[38;5;124;43m\"\u001b[39;49m\u001b[43m]\u001b[49m\n",
      "\u001b[1;31mKeyError\u001b[0m: 'foo'"
     ]
    }
   ],
   "source": [
    "4. \n",
    "spam ={'bar': 100}\n",
    "spam[\"foo\"]"
   ]
  },
  {
   "cell_type": "markdown",
   "id": "8557b70d",
   "metadata": {},
   "source": [
    "This shows a key error as the key is not mentioned in the given dictonary. Hence, it is not assigned any value. "
   ]
  },
  {
   "cell_type": "code",
   "execution_count": 10,
   "id": "0f07d5d5",
   "metadata": {},
   "outputs": [
    {
     "data": {
      "text/plain": [
       "True"
      ]
     },
     "execution_count": 10,
     "metadata": {},
     "output_type": "execute_result"
    }
   ],
   "source": [
    "5.  \n",
    "spam = {\"cat\": \"50\"}\n",
    "\"cat\" in spam"
   ]
  },
  {
   "cell_type": "code",
   "execution_count": 11,
   "id": "b438f8c2",
   "metadata": {},
   "outputs": [
    {
     "data": {
      "text/plain": [
       "True"
      ]
     },
     "execution_count": 11,
     "metadata": {},
     "output_type": "execute_result"
    }
   ],
   "source": [
    "spam = {\"cat\": \"50\"}\n",
    "\"cat\" in spam.keys()"
   ]
  },
  {
   "cell_type": "markdown",
   "id": "19b07c8f",
   "metadata": {},
   "source": [
    "As both the statements are true hence, there is no difference. "
   ]
  },
  {
   "cell_type": "code",
   "execution_count": 12,
   "id": "1d46889b",
   "metadata": {},
   "outputs": [
    {
     "data": {
      "text/plain": [
       "True"
      ]
     },
     "execution_count": 12,
     "metadata": {},
     "output_type": "execute_result"
    }
   ],
   "source": [
    "6. \n",
    "spam = {\"cat\": \"50\"}\n",
    "\"cat\" in spam"
   ]
  },
  {
   "cell_type": "code",
   "execution_count": 13,
   "id": "5e5926c7",
   "metadata": {},
   "outputs": [
    {
     "data": {
      "text/plain": [
       "False"
      ]
     },
     "execution_count": 13,
     "metadata": {},
     "output_type": "execute_result"
    }
   ],
   "source": [
    "spam = {\"cat\": \"50\"}\n",
    "\"cat\" in spam.values()"
   ]
  },
  {
   "cell_type": "markdown",
   "id": "c16200fb",
   "metadata": {},
   "source": [
    "Here the second code is false because the value is 50 and not 'cat'."
   ]
  },
  {
   "cell_type": "code",
   "execution_count": 14,
   "id": "4f82836a",
   "metadata": {},
   "outputs": [
    {
     "data": {
      "text/plain": [
       "{'cat': 100, 'color': 'black'}"
      ]
     },
     "execution_count": 14,
     "metadata": {},
     "output_type": "execute_result"
    }
   ],
   "source": [
    "7. \n",
    "spam ={'cat':100}\n",
    "spam.setdefault('color','black')\n",
    "spam"
   ]
  },
  {
   "cell_type": "markdown",
   "id": "072216fc",
   "metadata": {},
   "source": [
    "Here, we used the setdefault() keyword that helps to add another key and value to the dictonary.  "
   ]
  },
  {
   "cell_type": "markdown",
   "id": "8b8362d4",
   "metadata": {},
   "source": [
    "8. Pretty printing means printing the dictonary in a readable or understanble way. for istance lets take a dictonary. "
   ]
  },
  {
   "cell_type": "code",
   "execution_count": 30,
   "id": "5d8c6973",
   "metadata": {},
   "outputs": [],
   "source": [
    "dict=[{\"name\":\"sera\", \"Age\":\"19\", \"resdidence\": \"Hyderabad\"},\n",
    "      {\"name\":\"Jhon\", \"Age\":\"31\", \"resdidence\": \"Mumbai\"},\n",
    "    {\"name\":\"Abigail\", \"Age\":\"22\", \"resdidence\": \"Banglore\"},\n",
    "     {\"name\":\"Kate\", \"Age\":\"26\", \"resdidence\": \"Chennai\"}]"
   ]
  },
  {
   "cell_type": "code",
   "execution_count": 38,
   "id": "9073bdd8",
   "metadata": {},
   "outputs": [
    {
     "name": "stdout",
     "output_type": "stream",
     "text": [
      "[{'name': 'sera', 'Age': '19', 'resdidence': 'Hyderabad'}, {'name': 'Jhon', 'Age': '31', 'resdidence': 'Mumbai'}, {'name': 'Abigail', 'Age': '22', 'resdidence': 'Banglore'}, {'name': 'Kate', 'Age': '26', 'resdidence': 'Chennai'}]\n"
     ]
    }
   ],
   "source": [
    "print (dict)"
   ]
  },
  {
   "cell_type": "code",
   "execution_count": 41,
   "id": "08e6b7df",
   "metadata": {},
   "outputs": [],
   "source": [
    "def pprint(dict):\n",
    "    return (dict)"
   ]
  },
  {
   "cell_type": "code",
   "execution_count": 42,
   "id": "b84b00f1",
   "metadata": {},
   "outputs": [
    {
     "data": {
      "text/plain": [
       "[{'name': 'sera', 'Age': '19', 'resdidence': 'Hyderabad'},\n",
       " {'name': 'Jhon', 'Age': '31', 'resdidence': 'Mumbai'},\n",
       " {'name': 'Abigail', 'Age': '22', 'resdidence': 'Banglore'},\n",
       " {'name': 'Kate', 'Age': '26', 'resdidence': 'Chennai'}]"
      ]
     },
     "execution_count": 42,
     "metadata": {},
     "output_type": "execute_result"
    }
   ],
   "source": [
    "pprint(dict)"
   ]
  }
 ],
 "metadata": {
  "kernelspec": {
   "display_name": "Python 3 (ipykernel)",
   "language": "python",
   "name": "python3"
  },
  "language_info": {
   "codemirror_mode": {
    "name": "ipython",
    "version": 3
   },
   "file_extension": ".py",
   "mimetype": "text/x-python",
   "name": "python",
   "nbconvert_exporter": "python",
   "pygments_lexer": "ipython3",
   "version": "3.9.12"
  }
 },
 "nbformat": 4,
 "nbformat_minor": 5
}
