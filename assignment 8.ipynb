{
 "cells": [
  {
   "cell_type": "markdown",
   "id": "e5f6c233",
   "metadata": {},
   "source": [
    "1. No Python Standard Library is not included with PyInputPlus, we must install this seperately. "
   ]
  },
  {
   "cell_type": "markdown",
   "id": "23e7c149",
   "metadata": {},
   "source": [
    "2. pypi is alias of PyInputPlus, as pyip code in the import statement saves us from typing pyinputplus each time we want to call    a PyInputPlus function, Instead we can use the shorter pyip name."
   ]
  },
  {
   "cell_type": "markdown",
   "id": "e7c0a047",
   "metadata": {},
   "source": [
    "3. inputInt() : Accepts an integer value, and returns int value\n",
    "   inputFloat() : Accepts integer/floating point value and returns float value\n",
    "   Both takes additional parameters ‘min’, ‘max’, ‘greaterThan’ and ‘lessThan’  for bounds. "
   ]
  },
  {
   "cell_type": "markdown",
   "id": "25f30c2a",
   "metadata": {},
   "source": [
    "4. In the inputint function we can set the min = 0 and max =99 to ensure user enters number between 0 and 99"
   ]
  },
  {
   "cell_type": "markdown",
   "id": "33efb136",
   "metadata": {},
   "source": [
    "5. we can also use regular expressions to specify whether an input is allowed or not. The allowRegexes and blockRegexes \n",
    "   keyword arguments take a list of regular expression strings to determine what the PyInputPlus function will accept or \n",
    "   reject as valid input."
   ]
  },
  {
   "cell_type": "markdown",
   "id": "35dd3c57",
   "metadata": {},
   "source": [
    "6. it will throw RetryLimitException exception."
   ]
  },
  {
   "cell_type": "markdown",
   "id": "a1a5c68c",
   "metadata": {},
   "source": [
    "7. When you use limit keyword arguments and also pass a default keyword argument, the function returns the default value instead    of raising an exception. "
   ]
  },
  {
   "cell_type": "code",
   "execution_count": null,
   "id": "7c9c8ee7",
   "metadata": {},
   "outputs": [],
   "source": []
  },
  {
   "cell_type": "code",
   "execution_count": null,
   "id": "336ccebb",
   "metadata": {},
   "outputs": [],
   "source": []
  },
  {
   "cell_type": "code",
   "execution_count": null,
   "id": "f067aabf",
   "metadata": {},
   "outputs": [],
   "source": []
  },
  {
   "cell_type": "code",
   "execution_count": null,
   "id": "cd07a31f",
   "metadata": {},
   "outputs": [],
   "source": []
  }
 ],
 "metadata": {
  "kernelspec": {
   "display_name": "Python 3 (ipykernel)",
   "language": "python",
   "name": "python3"
  },
  "language_info": {
   "codemirror_mode": {
    "name": "ipython",
    "version": 3
   },
   "file_extension": ".py",
   "mimetype": "text/x-python",
   "name": "python",
   "nbconvert_exporter": "python",
   "pygments_lexer": "ipython3",
   "version": "3.9.12"
  }
 },
 "nbformat": 4,
 "nbformat_minor": 5
}
