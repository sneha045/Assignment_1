{
 "cells": [
  {
   "cell_type": "markdown",
   "id": "8ee8dc2e",
   "metadata": {},
   "source": [
    "1. Relative path means the path of a certain file relative to the current working dictonary. for example, if this is my file location C:\\Datascience\\pythonprojects\\assignments. here c: is the root dictonary, datascience, pythonprojects and assignments are sybdictonaries. This path is helpful but complex to use. we can access pythonptojects by saying pythonproject\\python.py. they work with current dictonaries "
   ]
  },
  {
   "cell_type": "markdown",
   "id": "a23f8874",
   "metadata": {},
   "source": [
    "2.This referes to the complete details needed to locate the file or the forlder starting from the root element and ending with the subdictonaries. for example, if this is my file location C:\\Datascience\\pythonprojects\\assignments. C: is the root dictonary which stores all the other subdictonaries in the operating system c:\\. they work with root folders  "
   ]
  },
  {
   "cell_type": "markdown",
   "id": "6f8c154d",
   "metadata": {},
   "source": [
    "3. The os.getcwd() function returns the current working directory. The os.chdir() function changes the current working directory."
   ]
  },
  {
   "cell_type": "markdown",
   "id": "869f1306",
   "metadata": {},
   "source": [
    "4. The . folder is the current folder, and .. is the parent folder."
   ]
  },
  {
   "cell_type": "markdown",
   "id": "f01a86b1",
   "metadata": {},
   "source": [
    "5. C:\\bacon\\eggs is the dir name, while spam.txt is the base name."
   ]
  },
  {
   "cell_type": "markdown",
   "id": "230d2e19",
   "metadata": {},
   "source": [
    "6. The string 'r' for read mode, 'w' for write mode, and 'a' for append mode.\n",
    "\n"
   ]
  },
  {
   "cell_type": "markdown",
   "id": "7a2b9bd5",
   "metadata": {},
   "source": [
    "7. An existing file opened in write mode is erased and completely overwritten."
   ]
  },
  {
   "cell_type": "markdown",
   "id": "247df2e5",
   "metadata": {},
   "source": [
    "8. The read() method returns the file’s entire contents as a single string value. The readlines() method returns a list of strings, where each string is a line from the file’s contents."
   ]
  },
  {
   "cell_type": "markdown",
   "id": "b92fc7bc",
   "metadata": {},
   "source": [
    "9.A  shelf value resembles a dictionary value; it has keys and values, along with keys() and values() methods that work similarly to the dictionary methods of the same names."
   ]
  },
  {
   "cell_type": "code",
   "execution_count": null,
   "id": "fc4ddc33",
   "metadata": {},
   "outputs": [],
   "source": []
  }
 ],
 "metadata": {
  "kernelspec": {
   "display_name": "Python 3 (ipykernel)",
   "language": "python",
   "name": "python3"
  },
  "language_info": {
   "codemirror_mode": {
    "name": "ipython",
    "version": 3
   },
   "file_extension": ".py",
   "mimetype": "text/x-python",
   "name": "python",
   "nbconvert_exporter": "python",
   "pygments_lexer": "ipython3",
   "version": "3.9.12"
  }
 },
 "nbformat": 4,
 "nbformat_minor": 5
}
