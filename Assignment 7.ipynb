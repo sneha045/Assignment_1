{
 "cells": [
  {
   "cell_type": "markdown",
   "id": "45cfd04f",
   "metadata": {},
   "source": [
    "1. the name of the feature responsible for generating Regex objects is re.sub(). This function helps in knowinf the pattern in a string and replaces with the provided string.  "
   ]
  },
  {
   "cell_type": "markdown",
   "id": "9cef8f98",
   "metadata": {},
   "source": [
    "2. raw strings often appear in Regex objects because it keeps regular expressions meaningful and confusion free. As they also contain blackslash it regulary uses that unlike a normal string. "
   ]
  },
  {
   "cell_type": "markdown",
   "id": "0b1731dc",
   "metadata": {},
   "source": [
    "3. The search() method searches through the string for the first location where there is a regular expression matches and gives the return match. it returns zero if there is no position of the string.  "
   ]
  },
  {
   "cell_type": "markdown",
   "id": "68b3d693",
   "metadata": {},
   "source": [
    "4.The group() method returns string to the matched text. "
   ]
  },
  {
   "cell_type": "markdown",
   "id": "aea3be72",
   "metadata": {},
   "source": [
    "5.Here, group 0 is completely matched and group 1 covers the first parentheses and group 2 covers the second set of parenteses. "
   ]
  },
  {
   "cell_type": "markdown",
   "id": "57a9267e",
   "metadata": {},
   "source": [
    "6. You can tell a regex that you want it to fit real parentheses and periods (, and ) and with a backslash. "
   ]
  },
  {
   "cell_type": "markdown",
   "id": "fb2f1f34",
   "metadata": {},
   "source": [
    "7. The findall() function returns a list of string that match the group. If, there are multiple matching groups then it returns a list of string tuples.  "
   ]
  },
  {
   "cell_type": "markdown",
   "id": "629f8d68",
   "metadata": {},
   "source": [
    "8. The | character signifies matching “either, or” between two groups."
   ]
  },
  {
   "cell_type": "markdown",
   "id": "22a8a9ac",
   "metadata": {},
   "source": [
    "9. The ? character can either mean “match zero or one of the preceding group” or be used to signify nongreedy matching."
   ]
  },
  {
   "cell_type": "markdown",
   "id": "b6f81159",
   "metadata": {},
   "source": [
    "10. The + matches one or more. \n",
    "The * matches zero or more."
   ]
  },
  {
   "cell_type": "markdown",
   "id": "88cd9308",
   "metadata": {},
   "source": [
    "11. The {4} matches exactly four instances of the preceding group. The {4,5} matches between four and five instances."
   ]
  },
  {
   "cell_type": "markdown",
   "id": "7ca65ae9",
   "metadata": {},
   "source": [
    "12. \\d means - single digit, \\w means- word, \\s ,means- space character."
   ]
  },
  {
   "cell_type": "markdown",
   "id": "044d3a99",
   "metadata": {},
   "source": [
    "13. \\D means- matches a single character that is not a digit. \n",
    "    \\W means- matches a single character that is not a word.\n",
    "    \\S means- matches a single character that is not a space character "
   ]
  },
  {
   "cell_type": "markdown",
   "id": "23715a58",
   "metadata": {},
   "source": [
    "14. The . performs a greedy match, and the .? performs a nongreedy match."
   ]
  },
  {
   "cell_type": "markdown",
   "id": "20cff320",
   "metadata": {},
   "source": [
    "15.The syntax for matching both numbers and lowercase letters with a character class is Either [0-9a-z] or [a-z0-9]"
   ]
  },
  {
   "cell_type": "markdown",
   "id": "9aa460c8",
   "metadata": {},
   "source": [
    "16. The procedure for making a normal expression in regax case insensitive is Passing re.I or re.IGNORECASE as the second argument to re.compile() will make the matching case insensitive."
   ]
  },
  {
   "cell_type": "markdown",
   "id": "f26fc938",
   "metadata": {},
   "source": [
    "17. The . character normally matches any character except the newline character. If re.DOTALL is passed as the second argument to re.compile(), then the dot will also match newline characters."
   ]
  },
  {
   "cell_type": "markdown",
   "id": "efd7d3ec",
   "metadata": {},
   "source": [
    "18. 'X drummers, X pipers, five rings, X hens' "
   ]
  },
  {
   "cell_type": "markdown",
   "id": "6a1792eb",
   "metadata": {},
   "source": [
    "19. The re.VERBOSE argument allows you to add whitespace and comments to the string passed to re.compile()."
   ]
  },
  {
   "cell_type": "markdown",
   "id": "7dc33949",
   "metadata": {},
   "source": [
    "20. '42', '1,234', '6,368,745'\n",
    "    but not the following:\n",
    "    '12,34,567' (which has only two digits between the commas)\n",
    "    '1234' (which lacks commas)\n",
    "    re.compile(r'^\\d{1,3}(,\\d{3})*$') will create this regex, but other regex strings can produce a similar regular expression."
   ]
  },
  {
   "cell_type": "markdown",
   "id": "81e45a33",
   "metadata": {},
   "source": [
    "21. 'Haruto Watanabe' 'Alice Watanabe' 'RoboCop Watanabe' but not the following: 'haruto Watanabe' (where the first name is not capitalized) 'Mr. Watanabe' (where the preceding word has a nonletter character) 'Watanabe' (which has no first name) 'Haruto watanabe' (where Watanabe is not capitalized)\n",
    "\n",
    "re.compile(r'\\s([A-Z]\\w+)\\s(Watanabe)')"
   ]
  },
  {
   "cell_type": "markdown",
   "id": "417d4944",
   "metadata": {},
   "source": [
    "22. 'Alice eats apples.' 'Bob pets cats.' 'Carol throws baseballs.' 'Alice throws Apples.' 'BOB EATS CATS.' but not the following: 'RoboCop eats apples.' 'ALICE THROWS FOOTBALLS.' 'Carol eats 7 cats.'\n",
    "   \n",
    "    re.compile(r'(Alice|Bob|Carol)\\s(eats|pets|throws)\\s(apples|cats|baseballs).', re.IGNORECASE)"
   ]
  },
  {
   "cell_type": "code",
   "execution_count": null,
   "id": "feecabb0",
   "metadata": {},
   "outputs": [],
   "source": []
  },
  {
   "cell_type": "code",
   "execution_count": null,
   "id": "2e6299c4",
   "metadata": {},
   "outputs": [],
   "source": []
  }
 ],
 "metadata": {
  "kernelspec": {
   "display_name": "Python 3 (ipykernel)",
   "language": "python",
   "name": "python3"
  },
  "language_info": {
   "codemirror_mode": {
    "name": "ipython",
    "version": 3
   },
   "file_extension": ".py",
   "mimetype": "text/x-python",
   "name": "python",
   "nbconvert_exporter": "python",
   "pygments_lexer": "ipython3",
   "version": "3.9.12"
  }
 },
 "nbformat": 4,
 "nbformat_minor": 5
}
