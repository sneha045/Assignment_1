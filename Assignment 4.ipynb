{
 "cells": [
  {
   "cell_type": "markdown",
   "id": "fbd8399f",
   "metadata": {},
   "source": [
    "1. [] These are square brackets that are used to enclose and represnt the list elements. For example:\n",
    "   [2,3,4,5,\"ineuron\",false]. "
   ]
  },
  {
   "cell_type": "code",
   "execution_count": 1,
   "id": "c92a7a05",
   "metadata": {},
   "outputs": [],
   "source": [
    "2. \n",
    "spam = [2,4,6,8,10]\n",
    "spam.insert ( 2, \"hello\")\n",
    "print = \"spam\""
   ]
  },
  {
   "cell_type": "code",
   "execution_count": 2,
   "id": "d69af04f",
   "metadata": {},
   "outputs": [
    {
     "data": {
      "text/plain": [
       "[2, 4, 'hello', 6, 8, 10]"
      ]
     },
     "execution_count": 2,
     "metadata": {},
     "output_type": "execute_result"
    }
   ],
   "source": [
    "spam"
   ]
  },
  {
   "cell_type": "code",
   "execution_count": 3,
   "id": "746605f6",
   "metadata": {},
   "outputs": [
    {
     "data": {
      "text/plain": [
       "'d'"
      ]
     },
     "execution_count": 3,
     "metadata": {},
     "output_type": "execute_result"
    }
   ],
   "source": [
    "3.\n",
    "spam= ['a', 'b', 'c', 'd']\n",
    "spam[int(int('3' * 2) / 11)]"
   ]
  },
  {
   "cell_type": "code",
   "execution_count": 4,
   "id": "b6e6e437",
   "metadata": {},
   "outputs": [
    {
     "data": {
      "text/plain": [
       "'d'"
      ]
     },
     "execution_count": 4,
     "metadata": {},
     "output_type": "execute_result"
    }
   ],
   "source": [
    "4. \n",
    "spam[-1]"
   ]
  },
  {
   "cell_type": "code",
   "execution_count": 5,
   "id": "0c8d5606",
   "metadata": {},
   "outputs": [
    {
     "data": {
      "text/plain": [
       "['a', 'b']"
      ]
     },
     "execution_count": 5,
     "metadata": {},
     "output_type": "execute_result"
    }
   ],
   "source": [
    "5.\n",
    "spam[:2]"
   ]
  },
  {
   "cell_type": "code",
   "execution_count": 7,
   "id": "25f558dc",
   "metadata": {},
   "outputs": [
    {
     "data": {
      "text/plain": [
       "1"
      ]
     },
     "execution_count": 7,
     "metadata": {},
     "output_type": "execute_result"
    }
   ],
   "source": [
    "6. The value will be 1 \n",
    "bacon =[3.14, 'cat', 11, 'cat', True]\n",
    "bacon.index('cat')"
   ]
  },
  {
   "cell_type": "markdown",
   "id": "722fa1ac",
   "metadata": {},
   "source": [
    "7. It will extend the list adding the value to the last of the list \n",
    "bacon =[3.14, 'cat', 11, 'cat', True, 99] "
   ]
  },
  {
   "cell_type": "code",
   "execution_count": 67,
   "id": "0b60ce2d",
   "metadata": {},
   "outputs": [],
   "source": [
    "8. \n",
    "The list will be [3.14, 11, True]\n",
    "\n",
    "bacon =[3.14, 'cat', 11, 'cat', True]\n",
    "bacon.remove('cat')"
   ]
  },
  {
   "cell_type": "markdown",
   "id": "ee24795b",
   "metadata": {},
   "source": [
    "9. List concatation is + and Repetition is * for example: a= [1,2,3] and b= [4,5,6] where c= a+b, this for concatation and for    repetition c= a*3."
   ]
  },
  {
   "cell_type": "markdown",
   "id": "d52fc3b0",
   "metadata": {},
   "source": [
    "10. The difference between list.append() and list.insert() is that append adds the text to the end of a list, whereas insert       will insert the text according to the index number mentioned. for example:\n",
    "    l=[1,2,3,4]\n",
    "    If you want to append 5 then l.append(5), the list will appear like this [1,2,3,4,5] after the termination of the program. \n",
    "    if you want to insert 6 in the 2nd index then l.insert( 2, 6) here 2 is the place to insert and 6 is the value that should     be intserted. here the list looks like [1,2,3,6,4]."
   ]
  },
  {
   "cell_type": "markdown",
   "id": "4e82638f",
   "metadata": {},
   "source": [
    "11. The two methods for removing items for the list are l.pop() and l.remove(). l.pop() removes the last data from the list and     l.remove() delete's the data that is mentioned. for example lets take a list l=[1,2,3,4,5] here, when we use pop, that is        l.pop() the output will be [1,2,3,4] and l.remove(4) will remove 4 from the list, hence the output will be [1,2,3,5]."
   ]
  },
  {
   "cell_type": "markdown",
   "id": "04da5137",
   "metadata": {},
   "source": [
    "12. list values are counted with the index's, lists can store any type of item in one list and string values are collection of       characters. Hence, they both are sequences.  "
   ]
  },
  {
   "cell_type": "markdown",
   "id": "a9710b36",
   "metadata": {},
   "source": [
    "13. The difference between list and tuples is that lists have square brackets[] and tuples has round brackets (). This will be     the visibile difference and the main difference is that lists are mutuable and tuples are immutable. "
   ]
  },
  {
   "cell_type": "markdown",
   "id": "2387b701",
   "metadata": {},
   "source": [
    "14. (42)"
   ]
  },
  {
   "cell_type": "markdown",
   "id": "06766e5b",
   "metadata": {},
   "source": [
    "15. tuple()\n",
    "    list()"
   ]
  },
  {
   "cell_type": "markdown",
   "id": "57f57917",
   "metadata": {},
   "source": [
    "16. They contain the references to the list values."
   ]
  },
  {
   "cell_type": "markdown",
   "id": "98e8af4d",
   "metadata": {},
   "source": [
    "17. copy.copy() fucntion will copy only slightest part and copy.deepcopy() fucntion will duplicate a list inside a list.  "
   ]
  }
 ],
 "metadata": {
  "kernelspec": {
   "display_name": "Python 3 (ipykernel)",
   "language": "python",
   "name": "python3"
  },
  "language_info": {
   "codemirror_mode": {
    "name": "ipython",
    "version": 3
   },
   "file_extension": ".py",
   "mimetype": "text/x-python",
   "name": "python",
   "nbconvert_exporter": "python",
   "pygments_lexer": "ipython3",
   "version": "3.9.12"
  }
 },
 "nbformat": 4,
 "nbformat_minor": 5
}
